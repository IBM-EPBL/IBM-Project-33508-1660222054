{
  "cells": [
    {
      "cell_type": "markdown",
      "metadata": {
        "id": "QsVVzuwRTghM"
      },
      "source": [
        "# **Importing Libraries**"
      ]
    },
    {
      "cell_type": "code",
      "execution_count": 2,
      "metadata": {},
      "outputs": [],
      "source": [
        "import pandas as pd"
      ]
    },
    {
      "cell_type": "code",
      "execution_count": 3,
      "metadata": {},
      "outputs": [],
      "source": [
        "import numpy as np"
      ]
    },
    {
      "cell_type": "code",
      "execution_count": 4,
      "metadata": {},
      "outputs": [],
      "source": [
        "import matplotlib.pyplot as plt"
      ]
    },
    {
      "cell_type": "code",
      "execution_count": 5,
      "metadata": {
        "id": "zDoA5t_WTfvV"
      },
      "outputs": [],
      "source": [
        "\n",
        "import matplotlib.pyplot as plt\n",
        "import seaborn as sns"
      ]
    },
    {
      "cell_type": "code",
      "execution_count": 8,
      "metadata": {
        "id": "7w8U1wftTtGD"
      },
      "outputs": [
        {
          "ename": "FileNotFoundError",
          "evalue": "[Errno 2] No such file or directory: '/content/Churn_Modelling.csv'",
          "output_type": "error",
          "traceback": [
            "\u001b[1;31m---------------------------------------------------------------------------\u001b[0m",
            "\u001b[1;31mFileNotFoundError\u001b[0m                         Traceback (most recent call last)",
            "Cell \u001b[1;32mIn [8], line 1\u001b[0m\n\u001b[1;32m----> 1\u001b[0m df\u001b[39m=\u001b[39mpd\u001b[39m.\u001b[39;49mread_csv(\u001b[39m'\u001b[39;49m\u001b[39m/content/Churn_Modelling.csv\u001b[39;49m\u001b[39m'\u001b[39;49m)\n",
            "File \u001b[1;32m~\\AppData\\Roaming\\Python\\Python310\\site-packages\\pandas\\util\\_decorators.py:211\u001b[0m, in \u001b[0;36mdeprecate_kwarg.<locals>._deprecate_kwarg.<locals>.wrapper\u001b[1;34m(*args, **kwargs)\u001b[0m\n\u001b[0;32m    209\u001b[0m     \u001b[39melse\u001b[39;00m:\n\u001b[0;32m    210\u001b[0m         kwargs[new_arg_name] \u001b[39m=\u001b[39m new_arg_value\n\u001b[1;32m--> 211\u001b[0m \u001b[39mreturn\u001b[39;00m func(\u001b[39m*\u001b[39margs, \u001b[39m*\u001b[39m\u001b[39m*\u001b[39mkwargs)\n",
            "File \u001b[1;32m~\\AppData\\Roaming\\Python\\Python310\\site-packages\\pandas\\util\\_decorators.py:317\u001b[0m, in \u001b[0;36mdeprecate_nonkeyword_arguments.<locals>.decorate.<locals>.wrapper\u001b[1;34m(*args, **kwargs)\u001b[0m\n\u001b[0;32m    311\u001b[0m \u001b[39mif\u001b[39;00m \u001b[39mlen\u001b[39m(args) \u001b[39m>\u001b[39m num_allow_args:\n\u001b[0;32m    312\u001b[0m     warnings\u001b[39m.\u001b[39mwarn(\n\u001b[0;32m    313\u001b[0m         msg\u001b[39m.\u001b[39mformat(arguments\u001b[39m=\u001b[39marguments),\n\u001b[0;32m    314\u001b[0m         \u001b[39mFutureWarning\u001b[39;00m,\n\u001b[0;32m    315\u001b[0m         stacklevel\u001b[39m=\u001b[39mfind_stack_level(inspect\u001b[39m.\u001b[39mcurrentframe()),\n\u001b[0;32m    316\u001b[0m     )\n\u001b[1;32m--> 317\u001b[0m \u001b[39mreturn\u001b[39;00m func(\u001b[39m*\u001b[39margs, \u001b[39m*\u001b[39m\u001b[39m*\u001b[39mkwargs)\n",
            "File \u001b[1;32m~\\AppData\\Roaming\\Python\\Python310\\site-packages\\pandas\\io\\parsers\\readers.py:950\u001b[0m, in \u001b[0;36mread_csv\u001b[1;34m(filepath_or_buffer, sep, delimiter, header, names, index_col, usecols, squeeze, prefix, mangle_dupe_cols, dtype, engine, converters, true_values, false_values, skipinitialspace, skiprows, skipfooter, nrows, na_values, keep_default_na, na_filter, verbose, skip_blank_lines, parse_dates, infer_datetime_format, keep_date_col, date_parser, dayfirst, cache_dates, iterator, chunksize, compression, thousands, decimal, lineterminator, quotechar, quoting, doublequote, escapechar, comment, encoding, encoding_errors, dialect, error_bad_lines, warn_bad_lines, on_bad_lines, delim_whitespace, low_memory, memory_map, float_precision, storage_options)\u001b[0m\n\u001b[0;32m    935\u001b[0m kwds_defaults \u001b[39m=\u001b[39m _refine_defaults_read(\n\u001b[0;32m    936\u001b[0m     dialect,\n\u001b[0;32m    937\u001b[0m     delimiter,\n\u001b[1;32m   (...)\u001b[0m\n\u001b[0;32m    946\u001b[0m     defaults\u001b[39m=\u001b[39m{\u001b[39m\"\u001b[39m\u001b[39mdelimiter\u001b[39m\u001b[39m\"\u001b[39m: \u001b[39m\"\u001b[39m\u001b[39m,\u001b[39m\u001b[39m\"\u001b[39m},\n\u001b[0;32m    947\u001b[0m )\n\u001b[0;32m    948\u001b[0m kwds\u001b[39m.\u001b[39mupdate(kwds_defaults)\n\u001b[1;32m--> 950\u001b[0m \u001b[39mreturn\u001b[39;00m _read(filepath_or_buffer, kwds)\n",
            "File \u001b[1;32m~\\AppData\\Roaming\\Python\\Python310\\site-packages\\pandas\\io\\parsers\\readers.py:605\u001b[0m, in \u001b[0;36m_read\u001b[1;34m(filepath_or_buffer, kwds)\u001b[0m\n\u001b[0;32m    602\u001b[0m _validate_names(kwds\u001b[39m.\u001b[39mget(\u001b[39m\"\u001b[39m\u001b[39mnames\u001b[39m\u001b[39m\"\u001b[39m, \u001b[39mNone\u001b[39;00m))\n\u001b[0;32m    604\u001b[0m \u001b[39m# Create the parser.\u001b[39;00m\n\u001b[1;32m--> 605\u001b[0m parser \u001b[39m=\u001b[39m TextFileReader(filepath_or_buffer, \u001b[39m*\u001b[39m\u001b[39m*\u001b[39mkwds)\n\u001b[0;32m    607\u001b[0m \u001b[39mif\u001b[39;00m chunksize \u001b[39mor\u001b[39;00m iterator:\n\u001b[0;32m    608\u001b[0m     \u001b[39mreturn\u001b[39;00m parser\n",
            "File \u001b[1;32m~\\AppData\\Roaming\\Python\\Python310\\site-packages\\pandas\\io\\parsers\\readers.py:1442\u001b[0m, in \u001b[0;36mTextFileReader.__init__\u001b[1;34m(self, f, engine, **kwds)\u001b[0m\n\u001b[0;32m   1439\u001b[0m     \u001b[39mself\u001b[39m\u001b[39m.\u001b[39moptions[\u001b[39m\"\u001b[39m\u001b[39mhas_index_names\u001b[39m\u001b[39m\"\u001b[39m] \u001b[39m=\u001b[39m kwds[\u001b[39m\"\u001b[39m\u001b[39mhas_index_names\u001b[39m\u001b[39m\"\u001b[39m]\n\u001b[0;32m   1441\u001b[0m \u001b[39mself\u001b[39m\u001b[39m.\u001b[39mhandles: IOHandles \u001b[39m|\u001b[39m \u001b[39mNone\u001b[39;00m \u001b[39m=\u001b[39m \u001b[39mNone\u001b[39;00m\n\u001b[1;32m-> 1442\u001b[0m \u001b[39mself\u001b[39m\u001b[39m.\u001b[39m_engine \u001b[39m=\u001b[39m \u001b[39mself\u001b[39;49m\u001b[39m.\u001b[39;49m_make_engine(f, \u001b[39mself\u001b[39;49m\u001b[39m.\u001b[39;49mengine)\n",
            "File \u001b[1;32m~\\AppData\\Roaming\\Python\\Python310\\site-packages\\pandas\\io\\parsers\\readers.py:1729\u001b[0m, in \u001b[0;36mTextFileReader._make_engine\u001b[1;34m(self, f, engine)\u001b[0m\n\u001b[0;32m   1727\u001b[0m     is_text \u001b[39m=\u001b[39m \u001b[39mFalse\u001b[39;00m\n\u001b[0;32m   1728\u001b[0m     mode \u001b[39m=\u001b[39m \u001b[39m\"\u001b[39m\u001b[39mrb\u001b[39m\u001b[39m\"\u001b[39m\n\u001b[1;32m-> 1729\u001b[0m \u001b[39mself\u001b[39m\u001b[39m.\u001b[39mhandles \u001b[39m=\u001b[39m get_handle(\n\u001b[0;32m   1730\u001b[0m     f,\n\u001b[0;32m   1731\u001b[0m     mode,\n\u001b[0;32m   1732\u001b[0m     encoding\u001b[39m=\u001b[39;49m\u001b[39mself\u001b[39;49m\u001b[39m.\u001b[39;49moptions\u001b[39m.\u001b[39;49mget(\u001b[39m\"\u001b[39;49m\u001b[39mencoding\u001b[39;49m\u001b[39m\"\u001b[39;49m, \u001b[39mNone\u001b[39;49;00m),\n\u001b[0;32m   1733\u001b[0m     compression\u001b[39m=\u001b[39;49m\u001b[39mself\u001b[39;49m\u001b[39m.\u001b[39;49moptions\u001b[39m.\u001b[39;49mget(\u001b[39m\"\u001b[39;49m\u001b[39mcompression\u001b[39;49m\u001b[39m\"\u001b[39;49m, \u001b[39mNone\u001b[39;49;00m),\n\u001b[0;32m   1734\u001b[0m     memory_map\u001b[39m=\u001b[39;49m\u001b[39mself\u001b[39;49m\u001b[39m.\u001b[39;49moptions\u001b[39m.\u001b[39;49mget(\u001b[39m\"\u001b[39;49m\u001b[39mmemory_map\u001b[39;49m\u001b[39m\"\u001b[39;49m, \u001b[39mFalse\u001b[39;49;00m),\n\u001b[0;32m   1735\u001b[0m     is_text\u001b[39m=\u001b[39;49mis_text,\n\u001b[0;32m   1736\u001b[0m     errors\u001b[39m=\u001b[39;49m\u001b[39mself\u001b[39;49m\u001b[39m.\u001b[39;49moptions\u001b[39m.\u001b[39;49mget(\u001b[39m\"\u001b[39;49m\u001b[39mencoding_errors\u001b[39;49m\u001b[39m\"\u001b[39;49m, \u001b[39m\"\u001b[39;49m\u001b[39mstrict\u001b[39;49m\u001b[39m\"\u001b[39;49m),\n\u001b[0;32m   1737\u001b[0m     storage_options\u001b[39m=\u001b[39;49m\u001b[39mself\u001b[39;49m\u001b[39m.\u001b[39;49moptions\u001b[39m.\u001b[39;49mget(\u001b[39m\"\u001b[39;49m\u001b[39mstorage_options\u001b[39;49m\u001b[39m\"\u001b[39;49m, \u001b[39mNone\u001b[39;49;00m),\n\u001b[0;32m   1738\u001b[0m )\n\u001b[0;32m   1739\u001b[0m \u001b[39massert\u001b[39;00m \u001b[39mself\u001b[39m\u001b[39m.\u001b[39mhandles \u001b[39mis\u001b[39;00m \u001b[39mnot\u001b[39;00m \u001b[39mNone\u001b[39;00m\n\u001b[0;32m   1740\u001b[0m f \u001b[39m=\u001b[39m \u001b[39mself\u001b[39m\u001b[39m.\u001b[39mhandles\u001b[39m.\u001b[39mhandle\n",
            "File \u001b[1;32m~\\AppData\\Roaming\\Python\\Python310\\site-packages\\pandas\\io\\common.py:857\u001b[0m, in \u001b[0;36mget_handle\u001b[1;34m(path_or_buf, mode, encoding, compression, memory_map, is_text, errors, storage_options)\u001b[0m\n\u001b[0;32m    852\u001b[0m \u001b[39melif\u001b[39;00m \u001b[39misinstance\u001b[39m(handle, \u001b[39mstr\u001b[39m):\n\u001b[0;32m    853\u001b[0m     \u001b[39m# Check whether the filename is to be opened in binary mode.\u001b[39;00m\n\u001b[0;32m    854\u001b[0m     \u001b[39m# Binary mode does not support 'encoding' and 'newline'.\u001b[39;00m\n\u001b[0;32m    855\u001b[0m     \u001b[39mif\u001b[39;00m ioargs\u001b[39m.\u001b[39mencoding \u001b[39mand\u001b[39;00m \u001b[39m\"\u001b[39m\u001b[39mb\u001b[39m\u001b[39m\"\u001b[39m \u001b[39mnot\u001b[39;00m \u001b[39min\u001b[39;00m ioargs\u001b[39m.\u001b[39mmode:\n\u001b[0;32m    856\u001b[0m         \u001b[39m# Encoding\u001b[39;00m\n\u001b[1;32m--> 857\u001b[0m         handle \u001b[39m=\u001b[39m \u001b[39mopen\u001b[39;49m(\n\u001b[0;32m    858\u001b[0m             handle,\n\u001b[0;32m    859\u001b[0m             ioargs\u001b[39m.\u001b[39;49mmode,\n\u001b[0;32m    860\u001b[0m             encoding\u001b[39m=\u001b[39;49mioargs\u001b[39m.\u001b[39;49mencoding,\n\u001b[0;32m    861\u001b[0m             errors\u001b[39m=\u001b[39;49merrors,\n\u001b[0;32m    862\u001b[0m             newline\u001b[39m=\u001b[39;49m\u001b[39m\"\u001b[39;49m\u001b[39m\"\u001b[39;49m,\n\u001b[0;32m    863\u001b[0m         )\n\u001b[0;32m    864\u001b[0m     \u001b[39melse\u001b[39;00m:\n\u001b[0;32m    865\u001b[0m         \u001b[39m# Binary mode\u001b[39;00m\n\u001b[0;32m    866\u001b[0m         handle \u001b[39m=\u001b[39m \u001b[39mopen\u001b[39m(handle, ioargs\u001b[39m.\u001b[39mmode)\n",
            "\u001b[1;31mFileNotFoundError\u001b[0m: [Errno 2] No such file or directory: '/content/Churn_Modelling.csv'"
          ]
        }
      ],
      "source": [
        "df=pd.read_csv('/content/Churn_Modelling.csv')"
      ]
    },
    {
      "cell_type": "code",
      "execution_count": null,
      "metadata": {
        "colab": {
          "base_uri": "https://localhost:8080/",
          "height": 487
        },
        "id": "4AtsQha_U_09",
        "outputId": "0643197f-257b-4edd-e879-b216c1037861"
      },
      "outputs": [],
      "source": [
        "df"
      ]
    },
    {
      "cell_type": "code",
      "execution_count": null,
      "metadata": {
        "colab": {
          "base_uri": "https://localhost:8080/",
          "height": 270
        },
        "id": "H1fd0-EuUEkz",
        "outputId": "4eb7c5d7-4f66-4ce9-a2aa-e8bebe3acc89"
      },
      "outputs": [],
      "source": [
        "df.head()"
      ]
    },
    {
      "cell_type": "code",
      "execution_count": null,
      "metadata": {
        "colab": {
          "base_uri": "https://localhost:8080/"
        },
        "id": "3DGyv6R_UKfT",
        "outputId": "bc1425c5-0184-4540-d618-59cf73ac69fb"
      },
      "outputs": [],
      "source": [
        "df.shape"
      ]
    },
    {
      "cell_type": "markdown",
      "metadata": {
        "id": "bCVlCXz-UM8S"
      },
      "source": [
        "# **Univariate,Bivariate and MultiVariate Analysis**"
      ]
    },
    {
      "cell_type": "markdown",
      "metadata": {
        "id": "NjRUiRQZUXrq"
      },
      "source": [
        "## **Univariate Analysis**"
      ]
    },
    {
      "cell_type": "code",
      "execution_count": null,
      "metadata": {
        "id": "JI_cYxC3USma"
      },
      "outputs": [],
      "source": [
        "df_france=df.loc[df['Geography']=='France']\n",
        "df_spain=df.loc[df['Geography']=='Spain']\n",
        "df_germany=df.loc[df['Geography']=='Germany']"
      ]
    },
    {
      "cell_type": "code",
      "execution_count": null,
      "metadata": {
        "colab": {
          "base_uri": "https://localhost:8080/",
          "height": 279
        },
        "id": "9rU2mxi2VIaL",
        "outputId": "bb858dea-117c-4fd9-bb9a-1a59bc9865d0"
      },
      "outputs": [],
      "source": [
        "plt.plot(df_france['Balance'],np.zeros_like(df_france['Balance']),'o')\n",
        "plt.plot(df_spain['Balance'],np.zeros_like(df_spain['Balance']),'o')\n",
        "plt.plot(df_germany['Balance'],np.zeros_like(df_germany['Balance']),'o')\n",
        "plt.xlabel('Age')\n",
        "plt.show()"
      ]
    },
    {
      "cell_type": "markdown",
      "metadata": {
        "id": "IRXqEvoEXTnK"
      },
      "source": [
        "## **Bivariate Analysis**"
      ]
    },
    {
      "cell_type": "code",
      "execution_count": null,
      "metadata": {
        "colab": {
          "base_uri": "https://localhost:8080/",
          "height": 426
        },
        "id": "4PDJj1kvXVZq",
        "outputId": "eb6be2d7-bde1-4e3c-e0fc-2c7a68734e05"
      },
      "outputs": [],
      "source": [
        "sns.FacetGrid(df,hue=\"Geography\",size=5).map(plt.scatter,\"Age\",\"Balance\").add_legend();\n",
        "plt.show()"
      ]
    },
    {
      "cell_type": "markdown",
      "metadata": {
        "id": "ycb7SeSFXpWU"
      },
      "source": [
        "## **Multivariate Analysis**"
      ]
    },
    {
      "cell_type": "code",
      "execution_count": null,
      "metadata": {
        "colab": {
          "base_uri": "https://localhost:8080/",
          "height": 1000
        },
        "id": "tZqHg0roXtyB",
        "outputId": "cb0a270b-6305-4c99-964c-02125c300757"
      },
      "outputs": [],
      "source": [
        "sns.pairplot(df,hue=\"Gender\",size=3)"
      ]
    },
    {
      "cell_type": "markdown",
      "metadata": {
        "id": "X0BkPoXvfDei"
      },
      "source": [
        "# **Descriptive Statistics**"
      ]
    },
    {
      "cell_type": "code",
      "execution_count": null,
      "metadata": {
        "colab": {
          "base_uri": "https://localhost:8080/",
          "height": 270
        },
        "id": "4H6gZUjffFIy",
        "outputId": "00fa5398-e989-4eb1-eab1-c2f603a4fb43"
      },
      "outputs": [],
      "source": [
        "df.head()"
      ]
    },
    {
      "cell_type": "code",
      "execution_count": null,
      "metadata": {
        "colab": {
          "base_uri": "https://localhost:8080/"
        },
        "id": "GvK9TM6hfW_f",
        "outputId": "ed87ebe2-466a-478a-aaf5-2a9b1675e90a"
      },
      "outputs": [],
      "source": [
        "df.mean()  # Get the mean of each column"
      ]
    },
    {
      "cell_type": "code",
      "execution_count": null,
      "metadata": {
        "colab": {
          "base_uri": "https://localhost:8080/"
        },
        "id": "Vy-PHBOrfhey",
        "outputId": "27f9e8b8-76e0-4bc5-d089-40ca4152abf9"
      },
      "outputs": [],
      "source": [
        "df.mean(axis=1)           # Get the mean of each row"
      ]
    },
    {
      "cell_type": "code",
      "execution_count": null,
      "metadata": {
        "colab": {
          "base_uri": "https://localhost:8080/"
        },
        "id": "9C1bhFWagDcS",
        "outputId": "2368fe27-b8ad-4571-e977-3f182fb3a5e0"
      },
      "outputs": [],
      "source": [
        "df.median()                 # Get the median of each column"
      ]
    },
    {
      "cell_type": "code",
      "execution_count": null,
      "metadata": {
        "colab": {
          "base_uri": "https://localhost:8080/",
          "height": 592
        },
        "id": "XzWKEA9rgOvQ",
        "outputId": "e0c52f4b-0da2-44cc-e7c4-f6eedfed077a"
      },
      "outputs": [],
      "source": [
        "norm_data = pd.DataFrame(np.random.normal(size=100000))\n",
        "\n",
        "norm_data.plot(kind=\"density\",\n",
        "              figsize=(10,10));\n",
        "plt.vlines(norm_data.mean(),     # Plot black line at mean\n",
        "           ymin=0, \n",
        "           ymax=0.4,\n",
        "           linewidth=5.0);\n",
        "\n",
        "plt.vlines(norm_data.median(),   # Plot red line at median\n",
        "           ymin=0, \n",
        "           ymax=0.4, \n",
        "           linewidth=2.0,\n",
        "           color=\"red\");             "
      ]
    },
    {
      "cell_type": "code",
      "execution_count": null,
      "metadata": {
        "colab": {
          "base_uri": "https://localhost:8080/",
          "height": 592
        },
        "id": "fv50VlT3gqjh",
        "outputId": "6a0fc227-443d-4008-c151-5d53013b6da3"
      },
      "outputs": [],
      "source": [
        "skewed_data = pd.DataFrame(np.random.exponential(size=100000))\n",
        "\n",
        "skewed_data.plot(kind=\"density\",\n",
        "              figsize=(10,10),\n",
        "              xlim=(-1,5));\n",
        "\n",
        "\n",
        "plt.vlines(skewed_data.mean(),     # Plot black line at mean\n",
        "           ymin=0, \n",
        "           ymax=0.8,\n",
        "           linewidth=5.0);\n",
        "\n",
        "plt.vlines(skewed_data.median(),   # Plot red line at median\n",
        "           ymin=0, \n",
        "           ymax=0.8, \n",
        "           linewidth=2.0,\n",
        "           color=\"red\");"
      ]
    },
    {
      "cell_type": "code",
      "execution_count": null,
      "metadata": {
        "colab": {
          "base_uri": "https://localhost:8080/",
          "height": 592
        },
        "id": "QL95dZ4fhqVw",
        "outputId": "aedf0679-6804-4920-edb2-9a52719557ef"
      },
      "outputs": [],
      "source": [
        "norm_data = np.random.normal(size=50)\n",
        "outliers = np.random.normal(15, size=3)\n",
        "combined_data = pd.DataFrame(np.concatenate((norm_data, outliers), axis=0))\n",
        "\n",
        "combined_data.plot(kind=\"density\",\n",
        "              figsize=(10,10),\n",
        "              xlim=(-5,20));\n",
        "\n",
        "\n",
        "plt.vlines(combined_data.mean(),     # Plot black line at mean\n",
        "           ymin=0, \n",
        "           ymax=0.2,\n",
        "           linewidth=5.0);\n",
        "\n",
        "plt.vlines(combined_data.median(),   # Plot red line at median\n",
        "           ymin=0, \n",
        "           ymax=0.2, \n",
        "           linewidth=2.0,\n",
        "           color=\"red\");\n"
      ]
    },
    {
      "cell_type": "code",
      "execution_count": null,
      "metadata": {
        "colab": {
          "base_uri": "https://localhost:8080/",
          "height": 487
        },
        "id": "PyP89ScvhvsC",
        "outputId": "86918d19-5692-4958-d4e1-aab96a03d5b2"
      },
      "outputs": [],
      "source": [
        "df.mode()"
      ]
    },
    {
      "cell_type": "markdown",
      "metadata": {
        "id": "F2JFFIMGh-9B"
      },
      "source": [
        "### **Measures of Spread**"
      ]
    },
    {
      "cell_type": "code",
      "execution_count": null,
      "metadata": {
        "colab": {
          "base_uri": "https://localhost:8080/"
        },
        "id": "h-8A52QpiC7g",
        "outputId": "d5d875b6-2b76-42f2-84c8-d62bcb539d9f"
      },
      "outputs": [],
      "source": [
        "max(df[\"Age\"]) - min(df[\"Age\"])"
      ]
    },
    {
      "cell_type": "code",
      "execution_count": null,
      "metadata": {
        "colab": {
          "base_uri": "https://localhost:8080/"
        },
        "id": "IIq71vOniWXg",
        "outputId": "d5ec3548-23d7-4baf-e67f-473302510e8b"
      },
      "outputs": [],
      "source": [
        "five_num = [df[\"Age\"].quantile(0),   \n",
        "            df[\"Age\"].quantile(0.25),\n",
        "            df[\"Age\"].quantile(0.50),\n",
        "            df[\"Age\"].quantile(0.75),\n",
        "            df[\"Age\"].quantile(1)]\n",
        "\n",
        "five_num"
      ]
    },
    {
      "cell_type": "code",
      "execution_count": null,
      "metadata": {
        "colab": {
          "base_uri": "https://localhost:8080/"
        },
        "id": "EyRkO2y7jjki",
        "outputId": "3b0429a7-0188-4eb7-ad79-1dc0290a9e39"
      },
      "outputs": [],
      "source": [
        "df[\"Age\"].describe()"
      ]
    },
    {
      "cell_type": "code",
      "execution_count": null,
      "metadata": {
        "colab": {
          "base_uri": "https://localhost:8080/"
        },
        "id": "KsVwqpXwjqI2",
        "outputId": "0a30916a-a2ff-40ae-c1ee-59abac4804be"
      },
      "outputs": [],
      "source": [
        "df[\"Age\"].quantile(0.75) - df[\"Age\"].quantile(0.25)"
      ]
    },
    {
      "cell_type": "code",
      "execution_count": null,
      "metadata": {
        "colab": {
          "base_uri": "https://localhost:8080/",
          "height": 491
        },
        "id": "mILMB0a8j2Np",
        "outputId": "6f27fbae-6c7c-425a-9dc7-913060da37c0"
      },
      "outputs": [],
      "source": [
        "df.boxplot(column=\"Age\",\n",
        "               return_type='axes',\n",
        "               figsize=(8,8))\n",
        "\n",
        "plt.text(x=0.74, y=22.25, s=\"3rd Quartile\")\n",
        "plt.text(x=0.8, y=18.75, s=\"Median\")\n",
        "plt.text(x=0.75, y=15.5, s=\"1st Quartile\")\n",
        "plt.text(x=0.9, y=10, s=\"Min\")\n",
        "plt.text(x=0.9, y=33.5, s=\"Max\")\n",
        "plt.text(x=0.7, y=19.5, s=\"IQR\", rotation=90, size=25);"
      ]
    },
    {
      "cell_type": "code",
      "execution_count": null,
      "metadata": {
        "colab": {
          "base_uri": "https://localhost:8080/"
        },
        "id": "YDje_dqAkGzX",
        "outputId": "5e324d43-b672-43af-de78-0dd33f370460"
      },
      "outputs": [],
      "source": [
        "df[\"Age\"].var()"
      ]
    },
    {
      "cell_type": "code",
      "execution_count": null,
      "metadata": {
        "colab": {
          "base_uri": "https://localhost:8080/"
        },
        "id": "yG6guzbhkMvz",
        "outputId": "200be5bf-da32-449c-c8f8-9ebec3715cbc"
      },
      "outputs": [],
      "source": [
        "df[\"Age\"].std()"
      ]
    },
    {
      "cell_type": "code",
      "execution_count": null,
      "metadata": {
        "colab": {
          "base_uri": "https://localhost:8080/"
        },
        "id": "I3kfDjzFkURB",
        "outputId": "16e50bd7-e94f-44a4-f74b-95aa691cf44d"
      },
      "outputs": [],
      "source": [
        "abs_median_devs = abs(df[\"Age\"] - df[\"Age\"].median())\n",
        "\n",
        "abs_median_devs.median() * 1.4826"
      ]
    },
    {
      "cell_type": "markdown",
      "metadata": {
        "id": "fRsuO0fOkfoI"
      },
      "source": [
        "### **Skewness and Kurtosis**"
      ]
    },
    {
      "cell_type": "code",
      "execution_count": null,
      "metadata": {
        "colab": {
          "base_uri": "https://localhost:8080/"
        },
        "id": "rCXqwAFYkbyx",
        "outputId": "2bd19caf-29bd-459d-b2f8-fa3b49b69612"
      },
      "outputs": [],
      "source": [
        "df[\"Age\"].skew()  # Check skewness"
      ]
    },
    {
      "cell_type": "code",
      "execution_count": null,
      "metadata": {
        "colab": {
          "base_uri": "https://localhost:8080/"
        },
        "id": "j_LiJoSzkt9v",
        "outputId": "09a06112-b23b-47d1-ead7-e314d5418fdd"
      },
      "outputs": [],
      "source": [
        "df[\"Age\"].kurt()  # Check kurtosis"
      ]
    },
    {
      "cell_type": "code",
      "execution_count": null,
      "metadata": {
        "id": "eLoXmEV4k1ef"
      },
      "outputs": [],
      "source": [
        "norm_data = np.random.normal(size=100000)\n",
        "skewed_data = np.concatenate((np.random.normal(size=35000)+2, \n",
        "                             np.random.exponential(size=65000)), \n",
        "                             axis=0)\n",
        "uniform_data = np.random.uniform(0,2, size=100000)\n",
        "peaked_data = np.concatenate((np.random.exponential(size=50000),\n",
        "                             np.random.exponential(size=50000)*(-1)),\n",
        "                             axis=0)\n",
        "\n",
        "data_df = pd.DataFrame({\"norm\":norm_data,\n",
        "                       \"skewed\":skewed_data,\n",
        "                       \"uniform\":uniform_data,\n",
        "                       \"peaked\":peaked_data})"
      ]
    },
    {
      "cell_type": "code",
      "execution_count": null,
      "metadata": {
        "colab": {
          "base_uri": "https://localhost:8080/",
          "height": 592
        },
        "id": "iFopZEfbk6bR",
        "outputId": "4658f4b2-0b18-4802-e53c-e930881dd37e"
      },
      "outputs": [],
      "source": [
        "data_df.plot(kind=\"density\",\n",
        "            figsize=(10,10),\n",
        "            xlim=(-5,5));"
      ]
    },
    {
      "cell_type": "code",
      "execution_count": null,
      "metadata": {
        "colab": {
          "base_uri": "https://localhost:8080/"
        },
        "id": "K4GWj7a8lChy",
        "outputId": "57868c90-beb3-4f89-b6ee-be2ab8c05172"
      },
      "outputs": [],
      "source": [
        "data_df.skew()"
      ]
    },
    {
      "cell_type": "code",
      "execution_count": null,
      "metadata": {
        "colab": {
          "base_uri": "https://localhost:8080/"
        },
        "id": "eN9nX6IMlGuh",
        "outputId": "902bd4aa-9ada-4f42-97f6-83e3e4f03b6d"
      },
      "outputs": [],
      "source": [
        "data_df.kurt()"
      ]
    },
    {
      "cell_type": "markdown",
      "metadata": {
        "id": "LpFSlS8Ql3tI"
      },
      "source": [
        "#**Handle the Missing values**"
      ]
    },
    {
      "cell_type": "code",
      "execution_count": null,
      "metadata": {
        "id": "uDlwieEkqf72"
      },
      "outputs": [],
      "source": [
        "df=pd.read_csv('/content/Churn_Modelling.csv')"
      ]
    },
    {
      "cell_type": "code",
      "execution_count": null,
      "metadata": {
        "colab": {
          "base_uri": "https://localhost:8080/",
          "height": 270
        },
        "id": "8UGlGcP1qlsl",
        "outputId": "e0c48358-6d87-429b-ec2a-780f72d4556f"
      },
      "outputs": [],
      "source": [
        "df.head()"
      ]
    },
    {
      "cell_type": "code",
      "execution_count": null,
      "metadata": {
        "colab": {
          "base_uri": "https://localhost:8080/",
          "height": 2282
        },
        "id": "wUon4IDJqp-6",
        "outputId": "b7398d5f-c7ac-4110-f1f8-6b636749433e"
      },
      "outputs": [],
      "source": [
        "df.isnull()"
      ]
    },
    {
      "cell_type": "code",
      "execution_count": null,
      "metadata": {
        "colab": {
          "base_uri": "https://localhost:8080/",
          "height": 355
        },
        "id": "tZjN4dHrqx1l",
        "outputId": "0b4c4688-cdf6-4253-c2d7-bf14a6bc1d14"
      },
      "outputs": [],
      "source": [
        "sns.heatmap(df.isnull(),yticklabels=False,cbar=False,cmap='viridis')"
      ]
    },
    {
      "cell_type": "code",
      "execution_count": null,
      "metadata": {
        "colab": {
          "base_uri": "https://localhost:8080/",
          "height": 297
        },
        "id": "FYwQfbL6tliF",
        "outputId": "251e3bc3-b3f5-40f6-ab3d-31e53d9b64ba"
      },
      "outputs": [],
      "source": [
        "sns.set_style('whitegrid')\n",
        "sns.countplot(x='Geography',data=df)"
      ]
    },
    {
      "cell_type": "code",
      "execution_count": null,
      "metadata": {
        "colab": {
          "base_uri": "https://localhost:8080/",
          "height": 297
        },
        "id": "1zyD9G0Dt6w-",
        "outputId": "9b4addca-ba25-4b1b-c337-b0eb87b2c5df"
      },
      "outputs": [],
      "source": [
        "sns.set_style('whitegrid')\n",
        "sns.countplot(x='Geography',hue='Gender',data=df,palette='RdBu_r')"
      ]
    },
    {
      "cell_type": "code",
      "execution_count": null,
      "metadata": {
        "colab": {
          "base_uri": "https://localhost:8080/",
          "height": 297
        },
        "id": "GI1NF4gmuaAW",
        "outputId": "716ec84e-d016-4a57-852d-5381e54db21f"
      },
      "outputs": [],
      "source": [
        "sns.set_style('whitegrid')\n",
        "sns.countplot(x='Geography',hue='Gender',data=df,palette='rainbow')"
      ]
    },
    {
      "cell_type": "code",
      "execution_count": null,
      "metadata": {
        "colab": {
          "base_uri": "https://localhost:8080/",
          "height": 358
        },
        "id": "P3nXHHuQusaA",
        "outputId": "ec99b8fa-7ec7-4254-8359-8de4cd13ec94"
      },
      "outputs": [],
      "source": [
        "sns.distplot(df['Age'].dropna(),kde=False,color='darkred',bins=40)"
      ]
    },
    {
      "cell_type": "code",
      "execution_count": null,
      "metadata": {
        "colab": {
          "base_uri": "https://localhost:8080/",
          "height": 283
        },
        "id": "L00k3YGeu0hV",
        "outputId": "baedaf7f-b9ff-4a14-acd3-67a1d41b6f24"
      },
      "outputs": [],
      "source": [
        "df['Age'].hist(bins=30,color='darkred',alpha=0.3)"
      ]
    },
    {
      "cell_type": "code",
      "execution_count": null,
      "metadata": {
        "colab": {
          "base_uri": "https://localhost:8080/",
          "height": 297
        },
        "id": "ApZ6ori7u6cL",
        "outputId": "a5ab7e44-aa2d-4add-bf29-06e802b90da5"
      },
      "outputs": [],
      "source": [
        "sns.countplot(x='NumOfProducts',data=df)"
      ]
    },
    {
      "cell_type": "code",
      "execution_count": null,
      "metadata": {
        "colab": {
          "base_uri": "https://localhost:8080/",
          "height": 287
        },
        "id": "YYhfTrRZvL0l",
        "outputId": "333b7301-d80c-447e-ec82-c7c02e5565ea"
      },
      "outputs": [],
      "source": [
        "df['Age'].hist(color='green',bins=40,figsize=(8,4))"
      ]
    },
    {
      "cell_type": "markdown",
      "metadata": {
        "id": "fTRSo6wIvWFF"
      },
      "source": [
        "\n",
        "## **Cufflinks for plots** "
      ]
    },
    {
      "cell_type": "code",
      "execution_count": null,
      "metadata": {
        "colab": {
          "base_uri": "https://localhost:8080/",
          "height": 17
        },
        "id": "h1A4SL7lve5P",
        "outputId": "2fd18413-25e2-4d09-fcb5-749bbcd42506"
      },
      "outputs": [],
      "source": [
        "import cufflinks as cf\n",
        "cf.go_offline()"
      ]
    },
    {
      "cell_type": "code",
      "execution_count": null,
      "metadata": {
        "id": "AnM4J4KHvjq_"
      },
      "outputs": [],
      "source": [
        "df['Age'].iplot(kind='hist',bins=30,color='green')"
      ]
    },
    {
      "cell_type": "markdown",
      "metadata": {
        "id": "rcQghLKPwAEO"
      },
      "source": [
        "\n",
        "## **Data Cleaning**"
      ]
    },
    {
      "cell_type": "code",
      "execution_count": null,
      "metadata": {
        "colab": {
          "base_uri": "https://localhost:8080/",
          "height": 460
        },
        "id": "VRjTnZ4UwGjm",
        "outputId": "eb443262-fba4-408e-832e-f85c8887d9d4"
      },
      "outputs": [],
      "source": [
        "plt.figure(figsize=(12, 7))\n",
        "sns.boxplot(x='Gender',y='Age',data=df,palette='winter')"
      ]
    },
    {
      "cell_type": "code",
      "execution_count": null,
      "metadata": {
        "id": "G9z8MgEqwQSW"
      },
      "outputs": [],
      "source": [
        "def impute_age(cols):\n",
        "    Age = cols[0]\n",
        "    Pclass = cols[1]\n",
        "    \n",
        "    if pd.isnull(Age):\n",
        "\n",
        "        if Pclass == 1:\n",
        "            return 37\n",
        "\n",
        "        elif Pclass == 2:\n",
        "            return 29\n",
        "\n",
        "        else:\n",
        "            return 24\n",
        "\n",
        "    else:\n",
        "        return Age"
      ]
    },
    {
      "cell_type": "code",
      "execution_count": null,
      "metadata": {
        "colab": {
          "base_uri": "https://localhost:8080/",
          "height": 355
        },
        "id": "LaOfrBtqwkH_",
        "outputId": "d0e547d6-57b1-4aba-c59e-2eaf518905e2"
      },
      "outputs": [],
      "source": [
        "\n",
        "sns.heatmap(df.isnull(),yticklabels=False,cbar=False,cmap='viridis')"
      ]
    },
    {
      "cell_type": "code",
      "execution_count": null,
      "metadata": {
        "id": "GHoLIrQpwsCR"
      },
      "outputs": [],
      "source": [
        "df.drop('Gender',axis=1,inplace=True)"
      ]
    },
    {
      "cell_type": "code",
      "execution_count": null,
      "metadata": {
        "colab": {
          "base_uri": "https://localhost:8080/",
          "height": 270
        },
        "id": "oegiAhH-w5_G",
        "outputId": "9db279a7-f2d2-47e8-dd85-7b6fc2a57ae5"
      },
      "outputs": [],
      "source": [
        "df.head()"
      ]
    },
    {
      "cell_type": "markdown",
      "metadata": {
        "id": "cP_VP-uqxJym"
      },
      "source": [
        "## **Converting Categorical Features**"
      ]
    },
    {
      "cell_type": "code",
      "execution_count": null,
      "metadata": {
        "colab": {
          "base_uri": "https://localhost:8080/"
        },
        "id": "oHb4Zo5OxLpm",
        "outputId": "33cab892-36b5-4b83-eabf-f9304669d476"
      },
      "outputs": [],
      "source": [
        "df.info()"
      ]
    },
    {
      "cell_type": "code",
      "execution_count": null,
      "metadata": {
        "colab": {
          "base_uri": "https://localhost:8080/",
          "height": 206
        },
        "id": "rbhOPiebw-Bg",
        "outputId": "fe44c3dd-e7ec-462b-aab4-7bfa3ae9e735"
      },
      "outputs": [],
      "source": [
        "pd.get_dummies(df['Geography'],drop_first=True).head()"
      ]
    },
    {
      "cell_type": "code",
      "execution_count": null,
      "metadata": {
        "colab": {
          "base_uri": "https://localhost:8080/"
        },
        "id": "S3gNHchPyGW2",
        "outputId": "a9e3f95a-de54-4208-bfe7-4ad1ec33417c"
      },
      "outputs": [],
      "source": [
        "df.info"
      ]
    },
    {
      "cell_type": "code",
      "execution_count": null,
      "metadata": {
        "id": "6gd0ULsdxfs3"
      },
      "outputs": [],
      "source": [
        "sex = pd.get_dummies(df['Age'],drop_first=True)\n",
        "embark = pd.get_dummies(df['Balance'],drop_first=True)"
      ]
    },
    {
      "cell_type": "code",
      "execution_count": null,
      "metadata": {
        "id": "_qD8fNlFyU1m"
      },
      "outputs": [],
      "source": [
        "df.drop(['Age','HasCrCard','Surname','CustomerId'],axis=1,inplace=True)"
      ]
    },
    {
      "cell_type": "code",
      "execution_count": null,
      "metadata": {
        "colab": {
          "base_uri": "https://localhost:8080/",
          "height": 206
        },
        "id": "7a4S7jQ3y4ON",
        "outputId": "ccde60aa-2031-4d3f-9960-2a7617b3e342"
      },
      "outputs": [],
      "source": [
        "df.head()"
      ]
    },
    {
      "cell_type": "code",
      "execution_count": null,
      "metadata": {
        "id": "hvEtx6Qpy9fs"
      },
      "outputs": [],
      "source": [
        "train = pd.concat([df,sex,embark],axis=1)"
      ]
    },
    {
      "cell_type": "code",
      "execution_count": null,
      "metadata": {
        "colab": {
          "base_uri": "https://localhost:8080/",
          "height": 299
        },
        "id": "XIfehKlLzHMJ",
        "outputId": "689c857e-a739-477f-dafd-10d52a13d009"
      },
      "outputs": [],
      "source": [
        "train.head()"
      ]
    },
    {
      "cell_type": "markdown",
      "metadata": {
        "id": "vc-Mf1bDzt3k"
      },
      "source": [
        "#**Find the outliers and replace the outliers**\n"
      ]
    },
    {
      "cell_type": "code",
      "execution_count": null,
      "metadata": {
        "id": "pGhSIGMYzJ7J"
      },
      "outputs": [],
      "source": [
        "dataset= [11,10,12,14,12,15,14,13,15,102,12,14,17,19,107, 10,13,12,14,12,108,12,11,14,13,15,10,15,12,10,14,13,15,10]"
      ]
    },
    {
      "cell_type": "markdown",
      "metadata": {
        "id": "47MlZqY90Aue"
      },
      "source": [
        "## **Detecting outlier using Z score**"
      ]
    },
    {
      "cell_type": "markdown",
      "metadata": {
        "id": "qSsEl8Jn0J3n"
      },
      "source": [
        "## **Using Z score**"
      ]
    },
    {
      "cell_type": "code",
      "execution_count": null,
      "metadata": {
        "id": "hO_EktD10JjU"
      },
      "outputs": [],
      "source": [
        "outliers=[]\n",
        "def detect_outliers(data):\n",
        "    \n",
        "    threshold=3\n",
        "    mean = np.mean(data)\n",
        "    std =np.std(data)\n",
        "    \n",
        "    \n",
        "    for i in data:\n",
        "        z_score= (i - mean)/std \n",
        "        if np.abs(z_score) > threshold:\n",
        "            outliers.append(y)\n",
        "    return outliers"
      ]
    },
    {
      "cell_type": "code",
      "execution_count": null,
      "metadata": {
        "id": "M9z7xtdG0Etm"
      },
      "outputs": [],
      "source": [
        "outlier_pt=detect_outliers(dataset)"
      ]
    },
    {
      "cell_type": "code",
      "execution_count": null,
      "metadata": {
        "colab": {
          "base_uri": "https://localhost:8080/"
        },
        "id": "slsmoowu0DyY",
        "outputId": "3db18c69-30dc-4585-c6a4-404c6405f525"
      },
      "outputs": [],
      "source": [
        "outlier_pt"
      ]
    },
    {
      "cell_type": "code",
      "execution_count": null,
      "metadata": {
        "colab": {
          "base_uri": "https://localhost:8080/"
        },
        "id": "6L-3uot-0AJP",
        "outputId": "01e28339-c347-48cf-ff60-69e4ea78e11e"
      },
      "outputs": [],
      "source": [
        "## Perform all the steps of IQR\n",
        "sorted(dataset)"
      ]
    },
    {
      "cell_type": "code",
      "execution_count": null,
      "metadata": {
        "id": "djC-Ez0p1vjN"
      },
      "outputs": [],
      "source": [
        "quantile1, quantile3= np.percentile(dataset,[25,75])"
      ]
    },
    {
      "cell_type": "code",
      "execution_count": null,
      "metadata": {
        "colab": {
          "base_uri": "https://localhost:8080/"
        },
        "id": "84FezatY15Qn",
        "outputId": "dcc663e7-f94e-46dc-b74f-e333e946e73d"
      },
      "outputs": [],
      "source": [
        "print(quantile1,quantile3)"
      ]
    },
    {
      "cell_type": "code",
      "execution_count": null,
      "metadata": {
        "colab": {
          "base_uri": "https://localhost:8080/"
        },
        "id": "ZGy0U_Wz18ph",
        "outputId": "d67d8494-bf44-4ca4-b254-49192cc9aaea"
      },
      "outputs": [],
      "source": [
        "## Find the IQR\n",
        "\n",
        "iqr_value=quantile3-quantile1\n",
        "print(iqr_value)"
      ]
    },
    {
      "cell_type": "code",
      "execution_count": null,
      "metadata": {
        "id": "Zp_G4iCs1987"
      },
      "outputs": [],
      "source": [
        "## Find the lower bound value and the higher bound value\n",
        "\n",
        "lower_bound_val = quantile1 -(1.5 * iqr_value) \n",
        "upper_bound_val = quantile3 +(1.5 * iqr_value) "
      ]
    },
    {
      "cell_type": "code",
      "execution_count": null,
      "metadata": {
        "colab": {
          "base_uri": "https://localhost:8080/"
        },
        "id": "6o7dN4HK2OVf",
        "outputId": "1e8d6f15-fd34-43b6-cc74-8370e5232552"
      },
      "outputs": [],
      "source": [
        "print(lower_bound_val,upper_bound_val)"
      ]
    },
    {
      "cell_type": "markdown",
      "metadata": {
        "id": "GSENH8Pc21Rx"
      },
      "source": [
        "# **Check for Categorical columns and perform encoding**"
      ]
    },
    {
      "cell_type": "code",
      "execution_count": null,
      "metadata": {
        "id": "LZGrGvXk23tP"
      },
      "outputs": [],
      "source": [
        "df=pd.read_csv('/content/Churn_Modelling.csv')"
      ]
    },
    {
      "cell_type": "code",
      "execution_count": null,
      "metadata": {
        "colab": {
          "base_uri": "https://localhost:8080/",
          "height": 270
        },
        "id": "aejtC17H3wAV",
        "outputId": "de545565-b6ef-4b53-a5cc-88bc72d23f01"
      },
      "outputs": [],
      "source": [
        "df.head()"
      ]
    },
    {
      "cell_type": "code",
      "execution_count": null,
      "metadata": {
        "id": "pfUJUub33z_7"
      },
      "outputs": [],
      "source": [
        "df_numeric = df[['RowNumber', 'CustomerId', 'CreditScore', 'Age', 'Tenure', 'Balance', 'NumOfProducts','HasCrCard','IsActiveMember','EstimatedSalary','Exited']]\n",
        "df_categorical = df[['Surname', 'Geography', 'Gender']]"
      ]
    },
    {
      "cell_type": "code",
      "execution_count": null,
      "metadata": {
        "colab": {
          "base_uri": "https://localhost:8080/",
          "height": 206
        },
        "id": "3D9heAD948Fb",
        "outputId": "ba6af084-d291-44ba-9412-0530c1ce323a"
      },
      "outputs": [],
      "source": [
        "df_numeric.head()"
      ]
    },
    {
      "cell_type": "code",
      "execution_count": null,
      "metadata": {
        "colab": {
          "base_uri": "https://localhost:8080/",
          "height": 206
        },
        "id": "plJ6k6hK5CMU",
        "outputId": "857f15ab-e250-4140-a48c-68bd1feeeba5"
      },
      "outputs": [],
      "source": [
        "df_categorical.head()"
      ]
    },
    {
      "cell_type": "code",
      "execution_count": null,
      "metadata": {
        "colab": {
          "base_uri": "https://localhost:8080/"
        },
        "id": "qWbNaQ-r5F-7",
        "outputId": "c98785c2-7b21-46ba-ca18-32cfbeafc009"
      },
      "outputs": [],
      "source": [
        "print(df['Surname'].unique())\n",
        "print(df['Geography'].unique())\n",
        "print(df['Gender'].unique())"
      ]
    },
    {
      "cell_type": "code",
      "execution_count": null,
      "metadata": {
        "id": "S0ZB0EDO5TIs"
      },
      "outputs": [],
      "source": [
        "from sklearn.preprocessing import LabelEncoder\n",
        "\n",
        "marry_encoder = LabelEncoder()"
      ]
    },
    {
      "cell_type": "code",
      "execution_count": null,
      "metadata": {
        "colab": {
          "base_uri": "https://localhost:8080/"
        },
        "id": "GQ6JfYCv5dP0",
        "outputId": "53cf5a77-e5b2-4bb9-e253-521a37f00961"
      },
      "outputs": [],
      "source": [
        "marry_encoder.fit(df_categorical['Gender'])"
      ]
    },
    {
      "cell_type": "code",
      "execution_count": null,
      "metadata": {
        "id": "JLS2Q4ry5yGD"
      },
      "outputs": [],
      "source": [
        "marry_values = marry_encoder.transform(df_categorical['Gender'])"
      ]
    },
    {
      "cell_type": "code",
      "execution_count": null,
      "metadata": {
        "colab": {
          "base_uri": "https://localhost:8080/"
        },
        "id": "B33XON3G52pL",
        "outputId": "c0fbd870-6c6f-4855-d980-7408e75309bb"
      },
      "outputs": [],
      "source": [
        "print(\"Before Encoding:\", list(df_categorical['Gender'][-10:]))\n",
        "print(\"After Encoding:\", marry_values[-10:])\n",
        "print(\"The inverse from the encoding result:\", marry_encoder.inverse_transform(marry_values[-10:]))"
      ]
    },
    {
      "cell_type": "code",
      "execution_count": null,
      "metadata": {
        "colab": {
          "base_uri": "https://localhost:8080/"
        },
        "id": "FjT48Nqy59NX",
        "outputId": "d2a953f5-63ec-4c3a-8ac1-4602a2ec90df"
      },
      "outputs": [],
      "source": [
        "residence_encoder = LabelEncoder()\n",
        "residence_values = residence_encoder.fit_transform(df_categorical['Geography'])\n",
        "\n",
        "print(\"Before Encoding:\", list(df_categorical['Geography'][:5]))\n",
        "print(\"After Encoding:\", residence_values[:5])\n",
        "print(\"The inverse from the encoding result:\", residence_encoder.inverse_transform(residence_values[:5]))"
      ]
    },
    {
      "cell_type": "code",
      "execution_count": null,
      "metadata": {
        "id": "4RMaN28-6OYQ"
      },
      "outputs": [],
      "source": [
        "from sklearn.preprocessing import OneHotEncoder\n",
        "\n",
        "gender_encoder = OneHotEncoder()"
      ]
    },
    {
      "cell_type": "code",
      "execution_count": null,
      "metadata": {
        "colab": {
          "base_uri": "https://localhost:8080/"
        },
        "id": "Nj6psxbN6cVF",
        "outputId": "129b3e0a-0542-45c7-e31c-7a42944e5e88"
      },
      "outputs": [],
      "source": [
        "from sklearn.preprocessing import OneHotEncoder\n",
        "import numpy as np\n",
        "\n",
        "gender_encoder = OneHotEncoder()\n",
        "gender_reshaped = np.array(df_categorical['Gender']).reshape(-1, 1)\n",
        "gender_values = gender_encoder.fit_transform(gender_reshaped)\n",
        "\n",
        "print(df_categorical['Gender'][:5])\n",
        "print()\n",
        "print(gender_values.toarray()[:5])\n",
        "print()\n",
        "print(gender_encoder.inverse_transform(gender_values)[:5])"
      ]
    },
    {
      "cell_type": "code",
      "execution_count": null,
      "metadata": {
        "colab": {
          "base_uri": "https://localhost:8080/"
        },
        "id": "y6UzIjPp6xKa",
        "outputId": "0fdf7afc-fdc3-4c88-f6cc-5cd6bcddaeb4"
      },
      "outputs": [],
      "source": [
        "smoke_encoder = OneHotEncoder()\n",
        "smoke_reshaped = np.array(df_categorical['Surname']).reshape(-1, 1)\n",
        "smoke_values = smoke_encoder.fit_transform(smoke_reshaped)\n",
        "\n",
        "print(df_categorical['Surname'][:5])\n",
        "print()\n",
        "print(smoke_values.toarray()[:5])\n",
        "print()\n",
        "print(smoke_encoder.inverse_transform(smoke_values)[:5])"
      ]
    },
    {
      "cell_type": "code",
      "execution_count": null,
      "metadata": {
        "colab": {
          "base_uri": "https://localhost:8080/"
        },
        "id": "9ioI9wWo7Vdc",
        "outputId": "c27bff1e-2ed5-4110-f2b2-75a0aba12b34"
      },
      "outputs": [],
      "source": [
        "work_encoder = OneHotEncoder()\n",
        "work_reshaped = np.array(df_categorical['Geography']).reshape(-1, 1)\n",
        "work_values = work_encoder.fit_transform(work_reshaped)\n",
        "\n",
        "print(df_categorical['Geography'][:5])\n",
        "print()\n",
        "print(work_values.toarray()[:5])\n",
        "print()\n",
        "print(work_encoder.inverse_transform(work_values)[:5])"
      ]
    },
    {
      "cell_type": "code",
      "execution_count": null,
      "metadata": {
        "colab": {
          "base_uri": "https://localhost:8080/",
          "height": 299
        },
        "id": "tlp1_1WL78X0",
        "outputId": "63c299f3-0a9f-4b45-89ec-6ae3f6d40e55"
      },
      "outputs": [],
      "source": [
        "df_categorical_encoded = pd.get_dummies(df_categorical, drop_first=True)\n",
        "df_categorical_encoded.head()"
      ]
    },
    {
      "cell_type": "code",
      "execution_count": null,
      "metadata": {
        "colab": {
          "base_uri": "https://localhost:8080/",
          "height": 299
        },
        "id": "cI4bCqVe7_QC",
        "outputId": "7d3c9fce-19be-419d-8f92-b91fc2592e70"
      },
      "outputs": [],
      "source": [
        "df_new = pd.concat([df_numeric, df_categorical_encoded], axis=1)\n",
        "df_new.head()"
      ]
    },
    {
      "cell_type": "markdown",
      "metadata": {
        "id": "1lyZH8My8Lm4"
      },
      "source": [
        "# **Split the data into dependent and independent variables.**"
      ]
    },
    {
      "cell_type": "code",
      "execution_count": null,
      "metadata": {
        "id": "15hlPpIz8OCr"
      },
      "outputs": [],
      "source": [
        "df=pd.read_csv('/content/Churn_Modelling.csv')"
      ]
    },
    {
      "cell_type": "code",
      "execution_count": null,
      "metadata": {
        "colab": {
          "base_uri": "https://localhost:8080/"
        },
        "id": "iLfUaKOD97uw",
        "outputId": "a9ffeebb-5994-4193-9cfb-23645c2d5640"
      },
      "outputs": [],
      "source": [
        "print(df[\"Balance\"].min())\n",
        "print(df[\"Balance\"].max())\n",
        "print(df[\"Balance\"].mean())"
      ]
    },
    {
      "cell_type": "code",
      "execution_count": null,
      "metadata": {
        "colab": {
          "base_uri": "https://localhost:8080/"
        },
        "id": "VyjwrN509uYM",
        "outputId": "b862e193-a1a0-4783-8006-c222b37e5025"
      },
      "outputs": [],
      "source": [
        "print(df.count(0))"
      ]
    },
    {
      "cell_type": "code",
      "execution_count": null,
      "metadata": {
        "colab": {
          "base_uri": "https://localhost:8080/"
        },
        "id": "l_IEODh0Azxd",
        "outputId": "2be16567-26a2-4397-9ca1-b496dadda9fc"
      },
      "outputs": [],
      "source": [
        "print(df.shape)"
      ]
    },
    {
      "cell_type": "code",
      "execution_count": null,
      "metadata": {
        "colab": {
          "base_uri": "https://localhost:8080/"
        },
        "id": "_k5AB6cEA5MU",
        "outputId": "48923fdc-14ed-470e-ca10-770585318ab4"
      },
      "outputs": [],
      "source": [
        "print(df.size)"
      ]
    },
    {
      "cell_type": "code",
      "execution_count": null,
      "metadata": {
        "colab": {
          "base_uri": "https://localhost:8080/"
        },
        "id": "5T3qOzedA6ox",
        "outputId": "34eaa25b-1efa-4142-fe08-502340e9701d"
      },
      "outputs": [],
      "source": [
        "X = df.iloc[:, :-1].values\n",
        "print(X)"
      ]
    },
    {
      "cell_type": "code",
      "execution_count": null,
      "metadata": {
        "colab": {
          "base_uri": "https://localhost:8080/"
        },
        "id": "5chBnhnZBG-x",
        "outputId": "42563315-d9bb-4808-8f86-1b2d22f446a4"
      },
      "outputs": [],
      "source": [
        "Y = df.iloc[:, -1].values\n",
        "print(Y)"
      ]
    },
    {
      "cell_type": "markdown",
      "metadata": {
        "id": "bLcL4pwEGE2p"
      },
      "source": [
        "# **Scale the independent variables**\n"
      ]
    },
    {
      "cell_type": "code",
      "execution_count": null,
      "metadata": {
        "colab": {
          "base_uri": "https://localhost:8080/",
          "height": 265
        },
        "id": "Ve8f5X0EJJu6",
        "outputId": "af8f2dd3-eee1-440e-f627-b5d7e666bbe8"
      },
      "outputs": [],
      "source": [
        "df = pd.read_csv('/content/Churn_Modelling.csv')\n",
        "\n",
        "x = df[['Age', 'Tenure']].values\n",
        "y = df['Gender'].values\n",
        "\n",
        "fig, ax = plt.subplots(ncols=2, figsize=(12, 4))\n",
        "\n",
        "ax[0].scatter(x[:,0], y)\n",
        "ax[1].scatter(x[:,1], y)\n",
        "\n",
        "plt.show()"
      ]
    },
    {
      "cell_type": "code",
      "execution_count": null,
      "metadata": {
        "colab": {
          "base_uri": "https://localhost:8080/",
          "height": 283
        },
        "id": "dSAbvJ7CNMEn",
        "outputId": "23eea4b3-e6a6-45de-ea99-8a2d0b4f4864"
      },
      "outputs": [],
      "source": [
        "fig, ax = plt.subplots(figsize=(12, 4))\n",
        "\n",
        "ax.scatter(x[:,0], y)\n",
        "ax.scatter(x[:,1], y)"
      ]
    },
    {
      "cell_type": "code",
      "execution_count": null,
      "metadata": {
        "colab": {
          "base_uri": "https://localhost:8080/",
          "height": 338
        },
        "id": "4rb-y-fXNQj7",
        "outputId": "c467beb0-f4ed-429f-8186-7ebc61ffac3f"
      },
      "outputs": [],
      "source": [
        "fig, ax = plt.subplots(figsize=(12, 4))\n",
        "\n",
        "ax.hist(x[:,0])\n",
        "ax.hist(x[:,1])"
      ]
    },
    {
      "cell_type": "code",
      "execution_count": null,
      "metadata": {
        "colab": {
          "base_uri": "https://localhost:8080/",
          "height": 375
        },
        "id": "DBt1ZvnlNUSH",
        "outputId": "b20bb5c0-8099-473a-f1f3-3c4ac0ba1f0e"
      },
      "outputs": [],
      "source": [
        "from sklearn.preprocessing import StandardScaler\n",
        "from sklearn.preprocessing import MinMaxScaler\n",
        "fig, ax = plt.subplots(figsize=(12, 4))\n",
        "\n",
        "scaler = StandardScaler()\n",
        "x_std = scaler.fit_transform(x)\n",
        "\n",
        "ax.hist(x_std[:,0])\n",
        "ax.hist(x_std[:,1])"
      ]
    },
    {
      "cell_type": "code",
      "execution_count": null,
      "metadata": {
        "colab": {
          "base_uri": "https://localhost:8080/",
          "height": 283
        },
        "id": "opBTCLxJNZPf",
        "outputId": "589e3820-3061-44b2-edaf-9226dc784c4e"
      },
      "outputs": [],
      "source": [
        "fig, ax = plt.subplots(figsize=(12, 4))\n",
        "\n",
        "scaler = StandardScaler()\n",
        "x_std = scaler.fit_transform(x)\n",
        "\n",
        "ax.scatter(x_std[:,0], y)\n",
        "ax.scatter(x_std[:,1], y)"
      ]
    },
    {
      "cell_type": "code",
      "execution_count": null,
      "metadata": {
        "colab": {
          "base_uri": "https://localhost:8080/",
          "height": 338
        },
        "id": "9XqyUttnNdxX",
        "outputId": "8c851644-0ae4-4b09-95f9-ee5d67bef791"
      },
      "outputs": [],
      "source": [
        "fig, ax = plt.subplots(figsize=(12, 4))\n",
        "\n",
        "scaler = MinMaxScaler()\n",
        "x_minmax = scaler.fit_transform(x)\n",
        "\n",
        "ax.hist(x_minmax [:,0])\n",
        "ax.hist(x_minmax [:,1])"
      ]
    },
    {
      "cell_type": "code",
      "execution_count": null,
      "metadata": {
        "colab": {
          "base_uri": "https://localhost:8080/",
          "height": 283
        },
        "id": "EFjs6cAiNyan",
        "outputId": "dbbdeb4c-4661-4f20-db0b-4e739fdf20e5"
      },
      "outputs": [],
      "source": [
        "fig, ax = plt.subplots(figsize=(12, 4))\n",
        "\n",
        "scaler = MinMaxScaler()\n",
        "x_minmax = scaler.fit_transform(x)\n",
        "\n",
        "ax.scatter(x_minmax [:,0], y)\n",
        "ax.scatter(x_minmax [:,1], y)"
      ]
    },
    {
      "cell_type": "code",
      "execution_count": null,
      "metadata": {
        "colab": {
          "base_uri": "https://localhost:8080/",
          "height": 283
        },
        "id": "CNJQ0wHlN3KP",
        "outputId": "985a37cf-829a-48c8-d3e0-414eb27675bf"
      },
      "outputs": [],
      "source": [
        "fig, ax = plt.subplots(figsize=(12, 4))\n",
        "\n",
        "scaler = MinMaxScaler()\n",
        "x_minmax = scaler.fit_transform(x)\n",
        "\n",
        "ax.scatter(x_minmax [:,0], y)"
      ]
    },
    {
      "cell_type": "code",
      "execution_count": null,
      "metadata": {
        "colab": {
          "base_uri": "https://localhost:8080/",
          "height": 338
        },
        "id": "JrVE5H7UN8r3",
        "outputId": "7b2792b2-b69f-4ef5-88b9-d92f4e260a3d"
      },
      "outputs": [],
      "source": [
        "fig, ax = plt.subplots(figsize=(12, 4))\n",
        "\n",
        "scaler = MinMaxScaler()\n",
        "x_minmax = scaler.fit_transform(x)\n",
        "\n",
        "ax.hist(x_minmax [:,0])"
      ]
    },
    {
      "cell_type": "code",
      "execution_count": null,
      "metadata": {
        "colab": {
          "base_uri": "https://localhost:8080/"
        },
        "id": "0GBLisPPN-Ua",
        "outputId": "394c5064-5429-4bbc-e92f-d74b2596fdb9"
      },
      "outputs": [],
      "source": [
        "from sklearn.model_selection import train_test_split\n",
        "from sklearn.pipeline import Pipeline\n",
        "from sklearn.linear_model import SGDRegressor\n",
        "from sklearn.preprocessing import StandardScaler\n",
        "from sklearn.preprocessing import MinMaxScaler\n",
        "from sklearn.metrics import mean_absolute_error\n",
        "import sklearn.metrics as metrics\n",
        "\n",
        "import pandas as pd\n",
        "import numpy as np\n",
        "import matplotlib.pyplot as plt\n",
        "\n",
        "# Import Data\n",
        "df = pd.read_csv('/content/Churn_Modelling.csv')\n",
        "x = df[['Age', 'Tenure']].values\n",
        "y = df['Balance'].values\n",
        "\n",
        "# Split into a training and testing set\n",
        "X_train, X_test, Y_train, Y_test = train_test_split(x, y)\n",
        "\n",
        "# Define the pipeline for scaling and model fitting\n",
        "pipeline = Pipeline([\n",
        "    (\"MinMax Scaling\", MinMaxScaler()),\n",
        "    (\"SGD Regression\", SGDRegressor())\n",
        "])\n",
        "\n",
        "# Scale the data and fit the model\n",
        "pipeline.fit(X_train, Y_train)\n",
        "\n",
        "# Evaluate the model\n",
        "Y_pred = pipeline.predict(X_test)\n",
        "print('Mean Absolute Error: ', mean_absolute_error(Y_pred, Y_test))\n",
        "print('Score', pipeline.score(X_test, Y_test))"
      ]
    },
    {
      "cell_type": "markdown",
      "metadata": {
        "id": "ymduOmbzO_8O"
      },
      "source": [
        "\n",
        "# **Split the data into training and testing**"
      ]
    },
    {
      "cell_type": "code",
      "execution_count": null,
      "metadata": {
        "colab": {
          "base_uri": "https://localhost:8080/"
        },
        "id": "sUo173hYVx-y",
        "outputId": "d2e4687f-c9f9-4f17-c9cd-cb6ad6d6c08a"
      },
      "outputs": [],
      "source": [
        "dataset = pd.read_csv('/content/Churn_Modelling.csv')\n",
        "print(dataset)"
      ]
    },
    {
      "cell_type": "code",
      "execution_count": null,
      "metadata": {
        "id": "Ede-8kuiaczd"
      },
      "outputs": [],
      "source": [
        "dataset.drop([\"HasCrCard\"],axis=1,inplace=True)"
      ]
    },
    {
      "cell_type": "code",
      "execution_count": null,
      "metadata": {
        "colab": {
          "base_uri": "https://localhost:8080/"
        },
        "id": "p5E3tmNMWrZF",
        "outputId": "8bad45cb-36d8-469b-f7e8-7cd7fa5e33a0"
      },
      "outputs": [],
      "source": [
        "print(dataset.shape)#no. of rows and colume\n",
        "print(dataset.head(10))"
      ]
    },
    {
      "cell_type": "code",
      "execution_count": null,
      "metadata": {
        "colab": {
          "base_uri": "https://localhost:8080/"
        },
        "id": "KmAUTJuVWwU6",
        "outputId": "4d290fe5-b238-4b81-b5c5-4735c411e051"
      },
      "outputs": [],
      "source": [
        "X=dataset.iloc[:,:-1].values\n",
        "X"
      ]
    },
    {
      "cell_type": "code",
      "execution_count": null,
      "metadata": {
        "colab": {
          "base_uri": "https://localhost:8080/"
        },
        "id": "DN8-qvGBW0Sz",
        "outputId": "8a5eabc0-120e-4f71-916a-d679d7aaeee0"
      },
      "outputs": [],
      "source": [
        "Y=dataset.iloc[:,-1].values\n",
        "Y"
      ]
    },
    {
      "cell_type": "code",
      "execution_count": null,
      "metadata": {
        "id": "LZkOczAsW5cX"
      },
      "outputs": [],
      "source": [
        "from sklearn.model_selection import train_test_split\n",
        "X_train,X_test,Y_train,Y_test = train_test_split( X, Y, test_size = 0.25, random_state = 0 )"
      ]
    },
    {
      "cell_type": "code",
      "execution_count": null,
      "metadata": {
        "colab": {
          "base_uri": "https://localhost:8080/"
        },
        "id": "NXHfx6UYXPy2",
        "outputId": "7d9c7853-5311-4254-e9bb-23aae8cdeefe"
      },
      "outputs": [],
      "source": [
        "from sklearn.preprocessing import StandardScaler\n",
        "sc=StandardScaler()\n",
        "X_train = sc.fit_transform(X_train)\n",
        "X_test = sc.transform(X_test)\n",
        "print(X_train)"
      ]
    },
    {
      "cell_type": "code",
      "execution_count": null,
      "metadata": {
        "colab": {
          "base_uri": "https://localhost:8080/"
        },
        "id": "e6e1onAXgmMr",
        "outputId": "60dd69f9-8079-458a-f569-180e5feffa17"
      },
      "outputs": [],
      "source": [
        "print(X_test)"
      ]
    }
  ],
  "metadata": {
    "colab": {
      "provenance": []
    },
    "kernelspec": {
      "display_name": "Python 3.10.8 64-bit",
      "language": "python",
      "name": "python3"
    },
    "language_info": {
      "codemirror_mode": {
        "name": "ipython",
        "version": 3
      },
      "file_extension": ".py",
      "mimetype": "text/x-python",
      "name": "python",
      "nbconvert_exporter": "python",
      "pygments_lexer": "ipython3",
      "version": "3.10.8"
    },
    "vscode": {
      "interpreter": {
        "hash": "26de051ba29f2982a8de78e945f0abaf191376122a1563185a90213a26c5da77"
      }
    }
  },
  "nbformat": 4,
  "nbformat_minor": 0
}
